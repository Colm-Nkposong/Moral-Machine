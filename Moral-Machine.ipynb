{
 "cells": [
  {
   "cell_type": "code",
   "execution_count": 2,
   "id": "4fca6dd3",
   "metadata": {},
   "outputs": [],
   "source": [
    "def calculateScore(location, isPregnant, height, age, isLawful):\n",
    "    # define a score variable; Score float \n",
    "    personScore = 0.0\n",
    "    # two locations; car:+1 crosswalk:+2\n",
    "    if (location == \"car\"):\n",
    "        personScore += 1\n",
    "    else:\n",
    "        personScore += 2\n",
    "    # this if statement will add 1 to the score if the passenger is in the car, and two if they are in the crosswalk\n",
    "    \n",
    "    # Define how being pregnant changes your score: Pregnant; +3 score\n",
    "    if (isPregnant == True):\n",
    "        personScore += 3\n",
    "    # pregnant people get a little score boost\n",
    "    \n",
    "    # you gain 0.1 score for every inch you are below 5 foot\n",
    "    if (height < 60):\n",
    "        personScore += (0.1*(60 - height))\n",
    "    \n",
    "    # if you're below 18 you gain 5 score, if you're above 65 you gain 2\n",
    "    if (age < 18):\n",
    "        personScore += 5\n",
    "    elif (age > 65):\n",
    "        personScore += 2\n",
    "    else:\n",
    "        personScore += 0\n",
    "    # if lawful your score increases by 5 if not it stays the same or decreases by 5\n",
    "    if (isLawful == True):\n",
    "        personScore += 5\n",
    "    else:\n",
    "        personScore -= 5\n",
    "        \n",
    "    return personScore\n",
    "\n",
    "    \n",
    "def printPersonDetails(isPregnant, height, age, isLawful, personLocation):\n",
    "    if (isPregnant == True):\n",
    "        pregnant = \"pregnant\"\n",
    "    else:\n",
    "        pregnant = \"not pregnant\"\n",
    "    if (isLawful == True):\n",
    "        lawful = \"lawfully \"\n",
    "    else:\n",
    "        lawful = \"not lawfully \"\n",
    "    print (\"A \" + pregnant + \" person, \" + str(height) + \" inches tall, \" + str(age) + \" years old, behaving \" + lawful + \"in the \" + personLocation + \".\")"
   ]
  },
  {
   "cell_type": "code",
   "execution_count": 3,
   "id": "1fa0e921",
   "metadata": {},
   "outputs": [
    {
     "name": "stdout",
     "output_type": "stream",
     "text": [
      "A pregnant person, 66.5 inches tall, 34 years old, behaving lawfully in the vehicle.\n"
     ]
    }
   ],
   "source": [
    "printPersonDetails(True, 66.5, 34, True, \"vehicle\")"
   ]
  },
  {
   "cell_type": "code",
   "execution_count": 4,
   "id": "901ea1f8",
   "metadata": {},
   "outputs": [
    {
     "data": {
      "text/plain": [
       "12.7"
      ]
     },
     "execution_count": 4,
     "metadata": {},
     "output_type": "execute_result"
    }
   ],
   "source": [
    "calculateScore(\"car\", False, 43, 12, True)"
   ]
  },
  {
   "cell_type": "code",
   "execution_count": null,
   "id": "d0c3832f",
   "metadata": {},
   "outputs": [],
   "source": []
  }
 ],
 "metadata": {
  "kernelspec": {
   "display_name": "Python 3 (ipykernel)",
   "language": "python",
   "name": "python3"
  },
  "language_info": {
   "codemirror_mode": {
    "name": "ipython",
    "version": 3
   },
   "file_extension": ".py",
   "mimetype": "text/x-python",
   "name": "python",
   "nbconvert_exporter": "python",
   "pygments_lexer": "ipython3",
   "version": "3.9.13"
  }
 },
 "nbformat": 4,
 "nbformat_minor": 5
}
