{
 "cells": [
  {
   "cell_type": "code",
   "execution_count": 1,
   "metadata": {},
   "outputs": [],
   "source": [
    "# paste your two functions into this block and run the block\n",
    "def calculateScore(location, isPregnant, height, age, isLawful):\n",
    "    # define a score variable; Score float \n",
    "    personScore = 0.0\n",
    "    # two locations; car:+1 crosswalk:+2\n",
    "    if (location == \"car\"):\n",
    "        personScore += 1\n",
    "    else:\n",
    "        personScore += 2\n",
    "    # this if statement will add 1 to the score if the passenger is in the car, and two if they are in the crosswalk\n",
    "    \n",
    "    # Define how being pregnant changes your score: Pregnant; +3 score\n",
    "    if (isPregnant == True):\n",
    "        personScore += 3\n",
    "    # pregnant people get a little score boost\n",
    "    \n",
    "    # you gain 0.1 score for every inch you are below 5 foot\n",
    "    if (height < 60):\n",
    "        personScore += (0.1*(60 - height))\n",
    "    \n",
    "    # if you're below 18 you gain 5 score, if you're above 65 you gain 2\n",
    "    if (age < 18):\n",
    "        personScore += 5\n",
    "    elif (age > 65):\n",
    "        personScore += 2\n",
    "    else:\n",
    "        personScore += 0\n",
    "    # if lawful your score increases by 5 if not it stays the same or decreases by 5\n",
    "    if (isLawful == True):\n",
    "        personScore += 5\n",
    "    else:\n",
    "        personScore -= 5\n",
    "        \n",
    "    return personScore\n",
    "\n",
    "    \n",
    "def printPersonDetails(isPregnant, height, age, isLawful, personLocation):\n",
    "    if (isPregnant == True):\n",
    "        pregnant = \"pregnant\"\n",
    "    else:\n",
    "        pregnant = \"not pregnant\"\n",
    "    if (isLawful == True):\n",
    "        lawful = \"lawfully \"\n",
    "    else:\n",
    "        lawful = \"not lawfully \"\n",
    "    print (\"A \" + pregnant + \" person, \" + str(height) + \" inches tall, \" + str(age) + \" years old, behaving \" + lawful + \"in the \" + personLocation + \".\")"
   ]
  },
  {
   "cell_type": "code",
   "execution_count": 2,
   "metadata": {
    "code_folding": [
     0
    ]
   },
   "outputs": [],
   "source": [
    "# now run this block\n",
    "# some sample data to use with the test\n",
    "ped1 = [(\"crosswalk\",True,60.25,27,True),(\"crosswalk\",True,60.25,27,True),\n",
    "        (\"crosswalk\",True,60.25,27,True),(\"crosswalk\",True,60.25,27,True),\n",
    "       (\"crosswalk\",True,60.25,27,True)]\n",
    "car1 = [(\"vehicle\",False,72.5,21,False),(\"vehicle\",False,73.25,22,False)]\n",
    "ped2 = [(\"crosswalk\",False,70,19,False),(\"crosswalk\",False,72,20,False),\n",
    "       (\"crosswalk\",False,71,18,False)]\n",
    "car2 = [(\"vehicle\",False,63,72,True),(\"vehicle\",False,60.25,27,True)]\n",
    "\n",
    "def runSim(peds,car):\n",
    "    # initialize variables to store total scores for people in car and pedestrians\n",
    "    carScore = 0\n",
    "    pedScore = 0\n",
    "\n",
    "    print(\"The following people were in the crosswalk: \")\n",
    "    # iterate through each pedestrian\n",
    "    for ped in peds:\n",
    "        # print the details of the current pedestrian\n",
    "        printPersonDetails(ped[1],ped[2],ped[3],ped[4],ped[0])\n",
    "        # calculate the current pedestrian's score and add it to the total pedestrian score\n",
    "        pedScore += calculateScore(ped[0],ped[1],ped[2],ped[3],ped[4])\n",
    "    print()\n",
    "    \n",
    "    print(\"The following people were in the car: \")\n",
    "    # iterate through each person in the car\n",
    "    for passenger in car:\n",
    "        # print the details of the current passenger\n",
    "        printPersonDetails(passenger[1],passenger[2],passenger[3],passenger[4],passenger[0])\n",
    "        # calculate the current passenger's score and add it to the total car score\n",
    "        carScore += calculateScore(passenger[0],passenger[1],passenger[2],passenger[3],passenger[4])\n",
    "    print()\n",
    "    \n",
    "    # output results based on calculated scores\n",
    "    if (carScore > pedScore):\n",
    "        print(\"Your algorithm chose to save the people in the car.\")\n",
    "        print(\"Car occupants total score: \"+str(carScore))\n",
    "        print(\"Pedestrians total score: \"+str(pedScore))\n",
    "    elif (carScore < pedScore):\n",
    "        print(\"Your algorithm chose to save the pedestrians in the crosswalk.\")\n",
    "        print(\"Pedestrians total score: \"+str(pedScore))\n",
    "        print(\"Car occupants total score: \"+str(carScore))\n",
    "    else:\n",
    "        print(\"Your algorithm calculated identical scores for both groups of people. Thus, the car swerved into the crosswalk and spontaneously combusted, killing everyone in order to be fair.\")\n",
    "        print(\"Pedestrians total score: \"+str(pedScore))\n",
    "        print(\"Car occupants total score: \"+str(carScore))"
   ]
  },
  {
   "cell_type": "code",
   "execution_count": 3,
   "metadata": {},
   "outputs": [
    {
     "name": "stdout",
     "output_type": "stream",
     "text": [
      "The following people were in the crosswalk: \n",
      "A pregnant person, 60.25 inches tall, 27 years old, behaving lawfully in the crosswalk.\n",
      "A pregnant person, 60.25 inches tall, 27 years old, behaving lawfully in the crosswalk.\n",
      "A pregnant person, 60.25 inches tall, 27 years old, behaving lawfully in the crosswalk.\n",
      "A pregnant person, 60.25 inches tall, 27 years old, behaving lawfully in the crosswalk.\n",
      "A pregnant person, 60.25 inches tall, 27 years old, behaving lawfully in the crosswalk.\n",
      "\n",
      "The following people were in the car: \n",
      "A not pregnant person, 72.5 inches tall, 21 years old, behaving not lawfully in the vehicle.\n",
      "A not pregnant person, 73.25 inches tall, 22 years old, behaving not lawfully in the vehicle.\n",
      "\n",
      "Your algorithm chose to save the pedestrians in the crosswalk.\n",
      "Pedestrians total score: 50.0\n",
      "Car occupants total score: -6.0\n"
     ]
    }
   ],
   "source": [
    "# call runSim with given sample data\n",
    "runSim(ped1,car1)"
   ]
  },
  {
   "cell_type": "code",
   "execution_count": null,
   "metadata": {},
   "outputs": [],
   "source": [
    "''' the expected output (above this block) should print something like this:\n",
    "\n",
    "A pregnant person, 60.25 inches tall, 27 years old, behaving lawfully, in the crosswalk.\n",
    "A pregnant person, 60.25 inches tall, 27 years old, behaving lawfully, in the crosswalk.\n",
    "A pregnant person, 60.25 inches tall, 27 years old, behaving lawfully, in the crosswalk.\n",
    "A pregnant person, 60.25 inches tall, 27 years old, behaving lawfully, in the crosswalk.\n",
    "A pregnant person, 60.25 inches tall, 27 years old, behaving lawfully, in the crosswalk.\n",
    "\n",
    "The following people were in the car: \n",
    "A not pregnant person, 72.5 inches tall, 21 years old, behaving not lawfully, in the vehicle.\n",
    "A not pregnant person, 73.25 inches tall, 22 years old, behaving not lawfully, in the vehicle.\n",
    "\n",
    "Your algorithm chose to save the pedestrians in the crosswalk.\n",
    "Pedestrians total score: 250\n",
    "Car occupants total score: -200\n",
    "\n",
    "though the actual numbers and text that print out are dependent on how you wrote your functions\n",
    "'''"
   ]
  },
  {
   "cell_type": "code",
   "execution_count": 4,
   "metadata": {},
   "outputs": [
    {
     "name": "stdout",
     "output_type": "stream",
     "text": [
      "The following people were in the crosswalk: \n",
      "A not pregnant person, 70 inches tall, 19 years old, behaving not lawfully in the crosswalk.\n",
      "A not pregnant person, 72 inches tall, 20 years old, behaving not lawfully in the crosswalk.\n",
      "A not pregnant person, 71 inches tall, 18 years old, behaving not lawfully in the crosswalk.\n",
      "\n",
      "The following people were in the car: \n",
      "A not pregnant person, 63 inches tall, 72 years old, behaving lawfully in the vehicle.\n",
      "A not pregnant person, 60.25 inches tall, 27 years old, behaving lawfully in the vehicle.\n",
      "\n",
      "Your algorithm chose to save the people in the car.\n",
      "Car occupants total score: 16.0\n",
      "Pedestrians total score: -9.0\n"
     ]
    }
   ],
   "source": [
    "runSim(ped2,car2)"
   ]
  },
  {
   "cell_type": "code",
   "execution_count": 5,
   "metadata": {},
   "outputs": [
    {
     "data": {
      "text/plain": [
       "'\\n# the expected output (above this block) should print something like this:\\n\\nA not pregnant person, 70 inches tall, 19 years old, behaving not lawfully, in the crosswalk.\\nA not pregnant person, 72 inches tall, 20 years old, behaving not lawfully, in the crosswalk.\\nA not pregnant person, 71 inches tall, 18 years old, behaving not lawfully, in the crosswalk.\\n\\nThe following people were in the car: \\nA not pregnant person, 63 inches tall, 72 years old, behaving lawfully, in the vehicle.\\nA not pregnant person, 60.25 inches tall, 27 years old, behaving lawfully, in the vehicle.\\n\\nYour algorithm chose to save the people in the car.\\nCar occupants total score: 0\\nPedestrians total score: -300\\n\\nthough the actual numbers and text that print out are dependent on how you wrote your functions\\n\\n'"
      ]
     },
     "execution_count": 5,
     "metadata": {},
     "output_type": "execute_result"
    }
   ],
   "source": [
    "'''\n",
    "# the expected output (above this block) should print something like this:\n",
    "\n",
    "A not pregnant person, 70 inches tall, 19 years old, behaving not lawfully, in the crosswalk.\n",
    "A not pregnant person, 72 inches tall, 20 years old, behaving not lawfully, in the crosswalk.\n",
    "A not pregnant person, 71 inches tall, 18 years old, behaving not lawfully, in the crosswalk.\n",
    "\n",
    "The following people were in the car: \n",
    "A not pregnant person, 63 inches tall, 72 years old, behaving lawfully, in the vehicle.\n",
    "A not pregnant person, 60.25 inches tall, 27 years old, behaving lawfully, in the vehicle.\n",
    "\n",
    "Your algorithm chose to save the people in the car.\n",
    "Car occupants total score: 0\n",
    "Pedestrians total score: -300\n",
    "\n",
    "though the actual numbers and text that print out are dependent on how you wrote your functions\n",
    "\n",
    "'''"
   ]
  },
  {
   "cell_type": "code",
   "execution_count": 6,
   "metadata": {},
   "outputs": [
    {
     "name": "stdout",
     "output_type": "stream",
     "text": [
      "The following people were in the crosswalk: \n",
      "A pregnant person, 60.25 inches tall, 27 years old, behaving lawfully in the crosswalk.\n",
      "A pregnant person, 60.25 inches tall, 27 years old, behaving lawfully in the crosswalk.\n",
      "A pregnant person, 60.25 inches tall, 27 years old, behaving lawfully in the crosswalk.\n",
      "A pregnant person, 60.25 inches tall, 27 years old, behaving lawfully in the crosswalk.\n",
      "A pregnant person, 60.25 inches tall, 27 years old, behaving lawfully in the crosswalk.\n",
      "\n",
      "The following people were in the car: \n",
      "A not pregnant person, 63 inches tall, 72 years old, behaving lawfully in the vehicle.\n",
      "A not pregnant person, 60.25 inches tall, 27 years old, behaving lawfully in the vehicle.\n",
      "\n",
      "Your algorithm chose to save the pedestrians in the crosswalk.\n",
      "Pedestrians total score: 50.0\n",
      "Car occupants total score: 16.0\n"
     ]
    }
   ],
   "source": [
    "runSim(ped1,car2)"
   ]
  },
  {
   "cell_type": "code",
   "execution_count": null,
   "metadata": {},
   "outputs": [],
   "source": [
    "'''\n",
    "# the expected output (above this block) should print something like this:\n",
    "\n",
    "The following people were in the crosswalk: \n",
    "A pregnant person, 60.25 inches tall, 27 years old, behaving lawfully, in the crosswalk.\n",
    "A pregnant person, 60.25 inches tall, 27 years old, behaving lawfully, in the crosswalk.\n",
    "A pregnant person, 60.25 inches tall, 27 years old, behaving lawfully, in the crosswalk.\n",
    "A pregnant person, 60.25 inches tall, 27 years old, behaving lawfully, in the crosswalk.\n",
    "A pregnant person, 60.25 inches tall, 27 years old, behaving lawfully, in the crosswalk.\n",
    "\n",
    "The following people were in the car: \n",
    "A not pregnant person, 63 inches tall, 72 years old, behaving lawfully, in the vehicle.\n",
    "A not pregnant person, 60.25 inches tall, 27 years old, behaving lawfully, in the vehicle.\n",
    "\n",
    "Your algorithm chose to save the pedestrians in the crosswalk.\n",
    "Pedestrians total score: 250\n",
    "Car occupants total score: 0\n",
    "\n",
    "though the actual numbers and text that print out are dependent on how you wrote your functions\n",
    "'''"
   ]
  },
  {
   "cell_type": "code",
   "execution_count": 7,
   "metadata": {},
   "outputs": [
    {
     "name": "stdout",
     "output_type": "stream",
     "text": [
      "The following people were in the crosswalk: \n",
      "A not pregnant person, 70 inches tall, 19 years old, behaving not lawfully in the crosswalk.\n",
      "A not pregnant person, 72 inches tall, 20 years old, behaving not lawfully in the crosswalk.\n",
      "A not pregnant person, 71 inches tall, 18 years old, behaving not lawfully in the crosswalk.\n",
      "\n",
      "The following people were in the car: \n",
      "A not pregnant person, 72.5 inches tall, 21 years old, behaving not lawfully in the vehicle.\n",
      "A not pregnant person, 73.25 inches tall, 22 years old, behaving not lawfully in the vehicle.\n",
      "\n",
      "Your algorithm chose to save the people in the car.\n",
      "Car occupants total score: -6.0\n",
      "Pedestrians total score: -9.0\n"
     ]
    }
   ],
   "source": [
    "runSim(ped2,car1)"
   ]
  },
  {
   "cell_type": "code",
   "execution_count": null,
   "metadata": {},
   "outputs": [],
   "source": [
    "'''\n",
    "# the expected output (above this block) should print something like this:\n",
    "\n",
    "The following people were in the crosswalk: \n",
    "A not pregnant person, 70 inches tall, 19 years old, behaving not lawfully, in the crosswalk.\n",
    "A not pregnant person, 72 inches tall, 20 years old, behaving not lawfully, in the crosswalk.\n",
    "A not pregnant person, 71 inches tall, 18 years old, behaving not lawfully, in the crosswalk.\n",
    "\n",
    "The following people were in the car: \n",
    "A not pregnant person, 72.5 inches tall, 21 years old, behaving not lawfully, in the vehicle.\n",
    "A not pregnant person, 73.25 inches tall, 22 years old, behaving not lawfully, in the vehicle.\n",
    "\n",
    "Your algorithm chose to save the people in the car.\n",
    "Car occupants total score: -200\n",
    "Pedestrians total score: -300\n",
    "\n",
    "though the actual numbers and text that print out are dependent on how you wrote your functions\n",
    "'''"
   ]
  },
  {
   "cell_type": "code",
   "execution_count": null,
   "metadata": {},
   "outputs": [],
   "source": [
    "# what to do if you get errors?\n",
    "# first, make sure your functions are named properly. the testing function, runSim, is expecting\n",
    "# the two functions specified in the project writeup.\n",
    "\n",
    "# second, run your functions separate from the testing code with numbers you supply. for \n",
    "# example, if you run this\n",
    "\n",
    "# printPersonDetails(\"crosswalk\", True, 68.25, 33, True)\n",
    "\n",
    "# you should get a statement that reads\n",
    "\n",
    "# A pregnant person, 68.25 inches tall, 33 years old, behaving lawfully, in the crosswalk.\n",
    "\n",
    "# if you run this\n",
    "\n",
    "# print(calculateScore(\"car\", True, 68.25, 33, True))\n",
    "\n",
    "# your code should print a number, though that number will depend on how you write your\n",
    "# function.  remember, it is up to you to decide how to weight each attribute.\n",
    "\n",
    "# if you're still having problems, please come to office hours or ask your question in class!\n",
    "# don't wait until the weekend to try and get help as you will likely have a hard time \n",
    "# getting a hold of one of us."
   ]
  }
 ],
 "metadata": {
  "kernelspec": {
   "display_name": "Python 3 (ipykernel)",
   "language": "python",
   "name": "python3"
  },
  "language_info": {
   "codemirror_mode": {
    "name": "ipython",
    "version": 3
   },
   "file_extension": ".py",
   "mimetype": "text/x-python",
   "name": "python",
   "nbconvert_exporter": "python",
   "pygments_lexer": "ipython3",
   "version": "3.9.13"
  }
 },
 "nbformat": 4,
 "nbformat_minor": 2
}
